{
 "cells": [
  {
   "cell_type": "markdown",
   "id": "54fdc792",
   "metadata": {},
   "source": [
    "# Lightly - 1%, 2%, 4%, 8%, 16%"
   ]
  },
  {
   "cell_type": "code",
   "execution_count": 9,
   "id": "d0f2e2ac",
   "metadata": {},
   "outputs": [],
   "source": [
    "from os import linesep\n",
    "from pathlib import Path\n",
    "from datetime import datetime\n",
    "import platform \n",
    "from lightly.api import ApiWorkflowClient\n",
    "from lightly.openapi_generated.swagger_client import DatasetType, DatasourcePurpose\n",
    "import torch\n",
    "import time\n",
    "from typing import List"
   ]
  },
  {
   "cell_type": "code",
   "execution_count": 10,
   "id": "7873449c",
   "metadata": {},
   "outputs": [],
   "source": [
    "LIGHTLY_TOKEN = \"6ef4b5e20f6a1dba87a72a9eb4ddceb3f9529cd3d46b94a8\" \n",
    "DATASET_PATH = Path(\"FOCAL/yolov5_format/images/train\")\n",
    "# DATASET_PATH = Path(\"/home/avgus/active-vehicle-detection/clothing_dataset\")  # e.g., Path(\"/path/to/images\") or Path(\"clothing_dataset\")\n",
    "DATASET_NAME = \"selection_first\""
   ]
  },
  {
   "cell_type": "code",
   "execution_count": 11,
   "id": "d951f37c",
   "metadata": {},
   "outputs": [],
   "source": [
    "def monitoring_runs(client: ApiWorkflowClient, run_ids: List[str]):\n",
    "    \"\"\"\n",
    "    Monitora múltiplos runs de workers no Lightly de forma concorrente.\n",
    "    Args:\n",
    "        client: A instância do cliente da API do Lightly.\n",
    "        run_ids: Uma lista de strings, onde cada string é um ID de run agendado.\n",
    "    \"\"\"\n",
    "    if not run_ids:\n",
    "        print(\"⚠️ Nenhuma ID de run foi fornecida.\")\n",
    "        return {}\n",
    "    n_ids = len(run_ids)\n",
    "\n",
    "    print(f\"🚀 Iniciando monitoramento para {n_ids} Ciclos de Active Learning...\")\n",
    "    i = 0\n",
    "    for run_id in run_ids:\n",
    "        i += 1\n",
    "        print(f\"\\n🔍 Monitorando Ciclo {i}/{n_ids}:\")\n",
    "        print(f\"  -> ID [{run_id}]\")\n",
    "\n",
    "        for run_info in client.compute_worker_run_info_generator(scheduled_run_id=run_id):\n",
    "            print(f\"Estado Atual: '{run_info.state}' ---> '{run_info.message}'\")\n",
    "\n",
    "        if run_info.ended_successfully():\n",
    "            print(f\"✅ Run [{run_id}] concluído com SUCESSO!\")\n",
    "        else:\n",
    "            print(f\"❌ Run [{run_id}] FALHOU com status final: '{run_info.state}'\")\n",
    "    \n",
    "\n",
    "    print(\"\\n🏁 Monitoramento concluído para todos os runs.\")"
   ]
  },
  {
   "cell_type": "markdown",
   "id": "d7f7687c",
   "metadata": {},
   "source": [
    "Iniciar Cliente Lightly"
   ]
  },
  {
   "cell_type": "code",
   "execution_count": 12,
   "id": "5e96b955",
   "metadata": {},
   "outputs": [],
   "source": [
    "### Cliente Ligthly ###\n",
    "client = ApiWorkflowClient(token=LIGHTLY_TOKEN)"
   ]
  },
  {
   "cell_type": "markdown",
   "id": "d2297e36",
   "metadata": {},
   "source": [
    "Criar Dataset"
   ]
  },
  {
   "cell_type": "code",
   "execution_count": 13,
   "id": "f0cd20f7",
   "metadata": {},
   "outputs": [],
   "source": [
    "client.create_dataset(\n",
    "    dataset_name=DATASET_NAME,\n",
    "    dataset_type=DatasetType.IMAGES,\n",
    ")"
   ]
  },
  {
   "cell_type": "code",
   "execution_count": 14,
   "id": "e6fbb2b3",
   "metadata": {},
   "outputs": [
    {
     "name": "stdout",
     "output_type": "stream",
     "text": [
      "dataset_id: 6879894f8388df88c81c801c\n"
     ]
    }
   ],
   "source": [
    "client.set_local_config(purpose=DatasourcePurpose.INPUT)\n",
    "client.set_local_config(purpose=DatasourcePurpose.LIGHTLY)\n",
    "print(f\"dataset_id: {client.dataset_id}\")"
   ]
  },
  {
   "cell_type": "code",
   "execution_count": 15,
   "id": "0545103e",
   "metadata": {},
   "outputs": [],
   "source": [
    "# Let's fetch the dataset we created above.\n",
    "# client.set_dataset_id_by_name(dataset_name=DATASET_NAME)"
   ]
  },
  {
   "cell_type": "markdown",
   "id": "ae87660a",
   "metadata": {},
   "source": [
    "#### Agendar uma seleção"
   ]
  },
  {
   "cell_type": "code",
   "execution_count": 16,
   "id": "a43adbde",
   "metadata": {},
   "outputs": [],
   "source": [
    "run_ids = []"
   ]
  },
  {
   "cell_type": "markdown",
   "id": "0304d10a",
   "metadata": {},
   "source": [
    "Ciclo 1 - warm up - 1% dos dados escolhidos aleatoriamente"
   ]
  },
  {
   "cell_type": "code",
   "execution_count": 17,
   "id": "1c409604",
   "metadata": {},
   "outputs": [
    {
     "name": "stdout",
     "output_type": "stream",
     "text": [
      "scheduled_run_id: 68798959564779c125d98fd8\n"
     ]
    }
   ],
   "source": [
    "# Schedule the run.\n",
    "scheduled_run_id = client.schedule_compute_worker_run(\n",
    "    worker_config={\n",
    "        # \"shutdown_when_job_finished\": True,\n",
    "        \"use_datapool\": True,\n",
    "        \"datasource\": {\n",
    "            \"process_all\": True,\n",
    "        },\n",
    "    },\n",
    "    selection_config={\n",
    "        \"proportion_samples\": 0.01, # 1% do dataset\n",
    "        \"strategies\": [\n",
    "            {\n",
    "                \"input\": {\n",
    "                    \"type\": \"RANDOM\",\n",
    "                    \"random_seed\": 42, # optional, for reproducibility\n",
    "                },\n",
    "                \"strategy\": {\n",
    "                    \"type\": \"WEIGHTS\",\n",
    "                }\n",
    "            }\n",
    "        ]\n",
    "    },\n",
    ")\n",
    "print(f\"scheduled_run_id: {scheduled_run_id}\")\n",
    "run_ids.append(scheduled_run_id)"
   ]
  },
  {
   "cell_type": "markdown",
   "id": "9c577d36",
   "metadata": {},
   "source": [
    "Ciclo 2 - +1% dos dados => 2% do total"
   ]
  },
  {
   "cell_type": "code",
   "execution_count": 18,
   "id": "bba2a916",
   "metadata": {},
   "outputs": [
    {
     "name": "stdout",
     "output_type": "stream",
     "text": [
      "scheduled_run_id: 687989908388df88c81c8022\n"
     ]
    }
   ],
   "source": [
    "# Schedule the run.\n",
    "scheduled_run_id = client.schedule_compute_worker_run(\n",
    "    worker_config={\n",
    "        # \"shutdown_when_job_finished\": True,\n",
    "        \"use_datapool\": True,\n",
    "        \"datasource\": {\n",
    "            \"process_all\": True,\n",
    "        },\n",
    "    },\n",
    "    selection_config={\n",
    "        \"proportion_samples\": 0.01, # +1% do dataset\n",
    "        \"strategies\": [\n",
    "            {\n",
    "                \"input\": {\n",
    "                    \"type\": \"SCORES\",\n",
    "                    \"task\": \"object_detection\", \n",
    "                    \"score\": \"uncertainty_entropy\",\n",
    "                },\n",
    "                \"strategy\": {\n",
    "                    \"type\": \"WEIGHTS\"\n",
    "                }\n",
    "            },\n",
    "            {\n",
    "                \"input\": {\n",
    "                    \"type\": \"EMBEDDINGS\",\n",
    "                },\n",
    "                \"strategy\": {\n",
    "                    \"type\": \"DIVERSITY\",\n",
    "                },\n",
    "            }\n",
    "        ],\n",
    "    },\n",
    ")\n",
    "print(f\"scheduled_run_id: {scheduled_run_id}\")\n",
    "run_ids.append(scheduled_run_id)"
   ]
  },
  {
   "cell_type": "markdown",
   "id": "909b9860",
   "metadata": {},
   "source": [
    "Ciclo 3 - +2% dos dados => 4% do total"
   ]
  },
  {
   "cell_type": "code",
   "execution_count": 19,
   "id": "576b048e",
   "metadata": {},
   "outputs": [
    {
     "name": "stdout",
     "output_type": "stream",
     "text": [
      "scheduled_run_id: 68798991564779c125d98fd9\n"
     ]
    }
   ],
   "source": [
    "# Schedule the run.\n",
    "scheduled_run_id = client.schedule_compute_worker_run(\n",
    "    worker_config={\n",
    "        # \"shutdown_when_job_finished\": True,\n",
    "        \"use_datapool\": True,\n",
    "        \"datasource\": {\n",
    "            \"process_all\": True,\n",
    "        },\n",
    "    },\n",
    "    selection_config={\n",
    "        \"proportion_samples\": 0.02, # +2% do dataset\n",
    "        \"strategies\": [\n",
    "            {\n",
    "                \"input\": {\n",
    "                    \"type\": \"SCORES\",\n",
    "                    \"task\": \"object_detection\", \n",
    "                    \"score\": \"uncertainty_entropy\",\n",
    "                },\n",
    "                \"strategy\": {\n",
    "                    \"type\": \"WEIGHTS\"\n",
    "                }\n",
    "            },\n",
    "            {\n",
    "                \"input\": {\n",
    "                    \"type\": \"EMBEDDINGS\",\n",
    "                },\n",
    "                \"strategy\": {\n",
    "                    \"type\": \"DIVERSITY\",\n",
    "                },\n",
    "            }\n",
    "        ],\n",
    "    },\n",
    ")\n",
    "print(f\"scheduled_run_id: {scheduled_run_id}\")\n",
    "run_ids.append(scheduled_run_id)"
   ]
  },
  {
   "cell_type": "markdown",
   "id": "c738cacf",
   "metadata": {},
   "source": [
    "Ciclo 4 - +4% dos dados => 8% do total"
   ]
  },
  {
   "cell_type": "code",
   "execution_count": 20,
   "id": "57b9df79",
   "metadata": {},
   "outputs": [
    {
     "name": "stdout",
     "output_type": "stream",
     "text": [
      "scheduled_run_id: 687989938388df88c81c8025\n"
     ]
    }
   ],
   "source": [
    "# Schedule the run.\n",
    "scheduled_run_id = client.schedule_compute_worker_run(\n",
    "    worker_config={\n",
    "        # \"shutdown_when_job_finished\": True,\n",
    "        \"use_datapool\": True,\n",
    "        \"datasource\": {\n",
    "            \"process_all\": True,\n",
    "        },\n",
    "    },\n",
    "    selection_config={\n",
    "        \"proportion_samples\": 0.04, # +4% do dataset\n",
    "        \"strategies\": [\n",
    "            {\n",
    "                \"input\": {\n",
    "                    \"type\": \"SCORES\",\n",
    "                    \"task\": \"object_detection\", \n",
    "                    \"score\": \"uncertainty_entropy\",\n",
    "                },\n",
    "                \"strategy\": {\n",
    "                    \"type\": \"WEIGHTS\"\n",
    "                }\n",
    "            },\n",
    "            {\n",
    "                \"input\": {\n",
    "                    \"type\": \"EMBEDDINGS\",\n",
    "                },\n",
    "                \"strategy\": {\n",
    "                    \"type\": \"DIVERSITY\",\n",
    "                },\n",
    "            }\n",
    "        ],\n",
    "    },\n",
    ")\n",
    "print(f\"scheduled_run_id: {scheduled_run_id}\")\n",
    "run_ids.append(scheduled_run_id)"
   ]
  },
  {
   "cell_type": "markdown",
   "id": "47b6e7bb",
   "metadata": {},
   "source": [
    "Ciclo 5 - +8% dos dados => 16% do total"
   ]
  },
  {
   "cell_type": "code",
   "execution_count": 21,
   "id": "b9c57008",
   "metadata": {},
   "outputs": [
    {
     "name": "stdout",
     "output_type": "stream",
     "text": [
      "scheduled_run_id: 687989948388df88c81c8027\n"
     ]
    }
   ],
   "source": [
    "# Schedule the run.\n",
    "scheduled_run_id = client.schedule_compute_worker_run(\n",
    "    worker_config={\n",
    "        \"shutdown_when_job_finished\": True,\n",
    "        \"use_datapool\": True,\n",
    "        \"datasource\": {\n",
    "            \"process_all\": True,\n",
    "        },\n",
    "    },\n",
    "    selection_config={\n",
    "        \"proportion_samples\": 0.08, # +8% do dataset\n",
    "        \"strategies\": [\n",
    "            {\n",
    "                \"input\": {\n",
    "                    \"type\": \"SCORES\",\n",
    "                    \"task\": \"object_detection\", \n",
    "                    \"score\": \"uncertainty_entropy\",\n",
    "                },\n",
    "                \"strategy\": {\n",
    "                    \"type\": \"WEIGHTS\"\n",
    "                }\n",
    "            },\n",
    "            {\n",
    "                \"input\": {\n",
    "                    \"type\": \"EMBEDDINGS\",\n",
    "                },\n",
    "                \"strategy\": {\n",
    "                    \"type\": \"DIVERSITY\",\n",
    "                },\n",
    "            }\n",
    "        ],\n",
    "    },\n",
    ")\n",
    "print(f\"scheduled_run_id: {scheduled_run_id}\")\n",
    "run_ids.append(scheduled_run_id)"
   ]
  },
  {
   "cell_type": "code",
   "execution_count": 22,
   "id": "1e4b1a8d",
   "metadata": {},
   "outputs": [],
   "source": [
    "# absolute_dataset_path = Path(DATASET_PATH).absolute()\n",
    "# absolute_lightly_path = Path(\"lightly\").absolute()"
   ]
  },
  {
   "cell_type": "markdown",
   "id": "39f57432",
   "metadata": {},
   "source": [
    "Comandos Docker"
   ]
  },
  {
   "cell_type": "code",
   "execution_count": 23,
   "id": "76d2333f",
   "metadata": {},
   "outputs": [
    {
     "name": "stdout",
     "output_type": "stream",
     "text": [
      "\n",
      "Docker Run command: \n",
      "\u001b[7mdocker run --gpus all --shm-size='32768m' --rm -it \\\n",
      "\t-v '/mnt/gustavo/FOCAL/yolov5_format/images/train':/input_mount:ro \\\n",
      "\t-v '/mnt/gustavo/lightly':/lightly_mount \\\n",
      "\t-e LIGHTLY_TOKEN=6ef4b5e20f6a1dba87a72a9eb4ddceb3f9529cd3d46b94a8 \\\n",
      "\tlightly/worker:latest\n",
      "\u001b[0m\n",
      "\n",
      "Lightly Serve command:\n",
      "\u001b[7mlightly-serve \\\n",
      "\tinput_mount='/home/avgus/active-vehicle-detection/FOCAL/yolov5_format/images/train' \\\n",
      "\tlightly_mount='/home/avgus/active-vehicle-detection/lightly'\n",
      "\u001b[0m\n"
     ]
    }
   ],
   "source": [
    "print(\n",
    "    f\"{linesep}Docker Run command: {linesep}\"\n",
    "    f\"\\033[7m\"\n",
    "    f\"docker run --gpus all --shm-size='32768m' --rm -it \\\\{linesep}\"\n",
    "    f\"\\t-v '/mnt/gustavo/{DATASET_PATH}':/input_mount:ro \\\\{linesep}\"\n",
    "    f\"\\t-v '/mnt/gustavo/{Path('lightly')}':/lightly_mount \\\\{linesep}\"\n",
    "    f\"\\t-e LIGHTLY_TOKEN={LIGHTLY_TOKEN} \\\\{linesep}\"\n",
    "    f\"\\tlightly/worker:latest{linesep}\"\n",
    "    f\"\\033[0m\"\n",
    ")\n",
    "print(\n",
    "    f\"{linesep}Lightly Serve command:{linesep}\"\n",
    "    f\"\\033[7m\"\n",
    "    f\"lightly-serve \\\\{linesep}\"\n",
    "    f\"\\tinput_mount='{DATASET_PATH.absolute()}' \\\\{linesep}\"\n",
    "    f\"\\tlightly_mount='{Path('lightly').absolute()}'{linesep}\"\n",
    "    f\"\\033[0m\"\n",
    ")"
   ]
  },
  {
   "cell_type": "code",
   "execution_count": 8,
   "id": "7f5cca70",
   "metadata": {},
   "outputs": [
    {
     "name": "stdout",
     "output_type": "stream",
     "text": [
      "\n",
      "Docker Run command: \n",
      "\u001b[7mdocker run--gpus all --shm-size='1024m' --rm -it \\\n",
      "\t-v '/mnt/gustavo/FOCAL/yolov5_format/images/train':/input_mount:ro \\\n",
      "\t-v '/mnt/gustavo/lightly':/lightly_mount \\\n",
      "\t-e LIGHTLY_TOKEN=6ef4b5e20f6a1dba87a72a9eb4ddceb3f9529cd3d46b94a8  \\\n",
      "\tlightly/worker:latest\n",
      "\u001b[0m\n"
     ]
    }
   ],
   "source": [
    "gpus_flag = \"--gpus all\"\n",
    "omp_num_threads_flag = \" -e OMP_NUM_THREADS=1\" if platform.system() == \"Darwin\" else \"\"\n",
    "print(\n",
    "    f\"{linesep}Docker Run command: {linesep}\"\n",
    "    f\"\\033[7m\"\n",
    "    f\"docker run{gpus_flag}{omp_num_threads_flag} --shm-size='1024m' --rm -it \\\\{linesep}\"\n",
    "    f\"\\t-v '/mnt/gustavo/FOCAL/yolov5_format/images/train':/input_mount:ro \\\\{linesep}\"\n",
    "    f\"\\t-v '/mnt/gustavo/lightly':/lightly_mount \\\\{linesep}\"\n",
    "    f\"\\t-e LIGHTLY_TOKEN=6ef4b5e20f6a1dba87a72a9eb4ddceb3f9529cd3d46b94a8  \\\\{linesep}\"\n",
    "    f\"\\tlightly/worker:latest{linesep}\"\n",
    "    f\"\\033[0m\"\n",
    ")"
   ]
  },
  {
   "cell_type": "markdown",
   "id": "1f7e58b1",
   "metadata": {},
   "source": [
    "Monitorando as seleções"
   ]
  },
  {
   "cell_type": "code",
   "execution_count": 98,
   "id": "5c872eed",
   "metadata": {},
   "outputs": [
    {
     "name": "stdout",
     "output_type": "stream",
     "text": [
      "🚀 Iniciando monitoramento para 5 Ciclos de Active Learning...\n",
      "\n",
      "🔍 Monitorando Ciclo 1/5:\n",
      "  -> ID [687892ef8388df88c81c684e]\n",
      "Estado Atual: 'COMPLETED' ---> 'State set to COMPLETED'\n",
      "✅ Run [687892ef8388df88c81c684e] concluído com SUCESSO!\n",
      "\n",
      "🔍 Monitorando Ciclo 2/5:\n",
      "  -> ID [6878e77e47b73983f4c382ae]\n",
      "Estado Atual: 'OPEN' ---> 'Waiting for pickup by Lightly Worker. Make sure to start a Lightly Worker connected to your user token to process the job.'\n",
      "Estado Atual: 'LOADING_DATASET' ---> 'State set to LOADING_DATASET'\n",
      "Estado Atual: 'LOADING_PREDICTION' ---> 'State set to LOADING_PREDICTION'\n",
      "Estado Atual: 'CHECKING_CORRUPTNESS' ---> 'State set to CHECKING_CORRUPTNESS'\n"
     ]
    },
    {
     "ename": "KeyboardInterrupt",
     "evalue": "",
     "output_type": "error",
     "traceback": [
      "\u001b[0;31m---------------------------------------------------------------------------\u001b[0m",
      "\u001b[0;31mKeyboardInterrupt\u001b[0m                         Traceback (most recent call last)",
      "Cell \u001b[0;32mIn[98], line 1\u001b[0m\n\u001b[0;32m----> 1\u001b[0m \u001b[43mmonitoring_runs\u001b[49m\u001b[43m(\u001b[49m\u001b[43mclient\u001b[49m\u001b[43m,\u001b[49m\u001b[43m \u001b[49m\u001b[43mrun_ids\u001b[49m\u001b[43m)\u001b[49m\n",
      "Cell \u001b[0;32mIn[33], line 20\u001b[0m, in \u001b[0;36mmonitoring_runs\u001b[0;34m(client, run_ids)\u001b[0m\n\u001b[1;32m     17\u001b[0m \u001b[38;5;28mprint\u001b[39m(\u001b[38;5;124mf\u001b[39m\u001b[38;5;124m\"\u001b[39m\u001b[38;5;130;01m\\n\u001b[39;00m\u001b[38;5;124m🔍 Monitorando Ciclo \u001b[39m\u001b[38;5;132;01m{\u001b[39;00mi\u001b[38;5;132;01m}\u001b[39;00m\u001b[38;5;124m/\u001b[39m\u001b[38;5;132;01m{\u001b[39;00mn_ids\u001b[38;5;132;01m}\u001b[39;00m\u001b[38;5;124m:\u001b[39m\u001b[38;5;124m\"\u001b[39m)\n\u001b[1;32m     18\u001b[0m \u001b[38;5;28mprint\u001b[39m(\u001b[38;5;124mf\u001b[39m\u001b[38;5;124m\"\u001b[39m\u001b[38;5;124m  -> ID [\u001b[39m\u001b[38;5;132;01m{\u001b[39;00mrun_id\u001b[38;5;132;01m}\u001b[39;00m\u001b[38;5;124m]\u001b[39m\u001b[38;5;124m\"\u001b[39m)\n\u001b[0;32m---> 20\u001b[0m \u001b[38;5;28;01mfor\u001b[39;00m run_info \u001b[38;5;129;01min\u001b[39;00m client\u001b[38;5;241m.\u001b[39mcompute_worker_run_info_generator(scheduled_run_id\u001b[38;5;241m=\u001b[39mrun_id):\n\u001b[1;32m     21\u001b[0m     \u001b[38;5;28mprint\u001b[39m(\u001b[38;5;124mf\u001b[39m\u001b[38;5;124m\"\u001b[39m\u001b[38;5;124mEstado Atual: \u001b[39m\u001b[38;5;124m'\u001b[39m\u001b[38;5;132;01m{\u001b[39;00mrun_info\u001b[38;5;241m.\u001b[39mstate\u001b[38;5;132;01m}\u001b[39;00m\u001b[38;5;124m'\u001b[39m\u001b[38;5;124m ---> \u001b[39m\u001b[38;5;124m'\u001b[39m\u001b[38;5;132;01m{\u001b[39;00mrun_info\u001b[38;5;241m.\u001b[39mmessage\u001b[38;5;132;01m}\u001b[39;00m\u001b[38;5;124m'\u001b[39m\u001b[38;5;124m\"\u001b[39m)\n\u001b[1;32m     23\u001b[0m \u001b[38;5;28;01mif\u001b[39;00m run_info\u001b[38;5;241m.\u001b[39mended_successfully():\n",
      "File \u001b[0;32m~/active-vehicle-detection/venv/lib/python3.10/site-packages/lightly/api/api_workflow_compute_worker.py:594\u001b[0m, in \u001b[0;36m_ComputeWorkerMixin.compute_worker_run_info_generator\u001b[0;34m(self, scheduled_run_id)\u001b[0m\n\u001b[1;32m    591\u001b[0m     \u001b[38;5;28;01mbreak\u001b[39;00m\n\u001b[1;32m    593\u001b[0m \u001b[38;5;66;03m# Wait before polling the state again\u001b[39;00m\n\u001b[0;32m--> 594\u001b[0m \u001b[43mtime\u001b[49m\u001b[38;5;241;43m.\u001b[39;49m\u001b[43msleep\u001b[49m\u001b[43m(\u001b[49m\u001b[38;5;241;43m30\u001b[39;49m\u001b[43m)\u001b[49m  \u001b[38;5;66;03m# Keep this at 30s or larger to prevent rate limiting.\u001b[39;00m\n\u001b[1;32m    596\u001b[0m last_run_info \u001b[38;5;241m=\u001b[39m run_info\n",
      "\u001b[0;31mKeyboardInterrupt\u001b[0m: "
     ]
    }
   ],
   "source": [
    "monitoring_runs(client, run_ids)"
   ]
  },
  {
   "cell_type": "code",
   "execution_count": null,
   "id": "452a5e32",
   "metadata": {},
   "outputs": [],
   "source": []
  },
  {
   "cell_type": "code",
   "execution_count": null,
   "id": "ae880d04",
   "metadata": {},
   "outputs": [],
   "source": []
  },
  {
   "cell_type": "code",
   "execution_count": null,
   "id": "96446f1e",
   "metadata": {},
   "outputs": [],
   "source": []
  },
  {
   "cell_type": "code",
   "execution_count": null,
   "id": "3444dd1f",
   "metadata": {},
   "outputs": [],
   "source": []
  },
  {
   "cell_type": "code",
   "execution_count": null,
   "id": "561056e7",
   "metadata": {},
   "outputs": [],
   "source": []
  }
 ],
 "metadata": {
  "kernelspec": {
   "display_name": "venv",
   "language": "python",
   "name": "python3"
  },
  "language_info": {
   "codemirror_mode": {
    "name": "ipython",
    "version": 3
   },
   "file_extension": ".py",
   "mimetype": "text/x-python",
   "name": "python",
   "nbconvert_exporter": "python",
   "pygments_lexer": "ipython3",
   "version": "3.10.12"
  }
 },
 "nbformat": 4,
 "nbformat_minor": 5
}
