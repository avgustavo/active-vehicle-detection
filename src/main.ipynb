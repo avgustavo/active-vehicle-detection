{
 "cells": [
  {
   "cell_type": "code",
   "execution_count": null,
   "id": "8afe94af",
   "metadata": {},
   "outputs": [],
   "source": [
    "import os\n",
    "import shutil\n",
    "from pathlib import Path\n",
    "from tqdm import tqdm\n"
   ]
  },
  {
   "cell_type": "code",
   "execution_count": null,
   "id": "19a66e32",
   "metadata": {},
   "outputs": [],
   "source": [
    "# Dimensões das imagens do dataset\n",
    "IMG_WIDTH = 1920\n",
    "IMG_HEIGHT = 1080\n",
    "# ALTERAÇÃO: Mapeamento das classes de veículos para índices numéricos\n",
    "CLASS_MAP = {\"car\": 0, \"motorcycle\": 1}\n",
    "\n"
   ]
  },
  {
   "cell_type": "code",
   "execution_count": null,
   "id": "5936d00a",
   "metadata": {},
   "outputs": [],
   "source": [
    "def get_vehicle_info(annotation_path):\n",
    "    \"\"\"Lê o arquivo de anotação e extrai o bounding box e o tipo do veículo.\"\"\"\n",
    "    vehicle_bbox = None\n",
    "    vehicle_type = None\n",
    "    \n",
    "    with open(annotation_path, 'r') as f:\n",
    "        lines = f.readlines()\n",
    "        for i, line in enumerate(lines):\n",
    "            # Extrai a posição do veículo\n",
    "            if line.strip().startswith('position_vehicle:'):\n",
    "                parts = line.split(':')\n",
    "                coords = parts[1].strip().split()\n",
    "                vehicle_bbox = [int(c) for c in coords]\n",
    "            \n",
    "            # Extrai o tipo do veículo, que geralmente está na linha seguinte\n",
    "            if line.strip().startswith('type:'):\n",
    "                parts = line.split(':')\n",
    "                # O tipo pode ser 'car' ou 'motorcycle'\n",
    "                vehicle_type = parts[1].strip()\n",
    "\n",
    "    return vehicle_bbox, vehicle_type\n"
   ]
  }
 ],
 "metadata": {
  "kernelspec": {
   "display_name": "venv",
   "language": "python",
   "name": "python3"
  },
  "language_info": {
   "name": "python",
   "version": "3.10.12"
  }
 },
 "nbformat": 4,
 "nbformat_minor": 5
}
