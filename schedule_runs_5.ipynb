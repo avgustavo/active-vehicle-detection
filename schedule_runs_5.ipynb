{
 "cells": [
  {
   "cell_type": "markdown",
   "id": "54fdc792",
   "metadata": {},
   "source": [
    "# Lightly - 5%, 7.5%, 10%, 12.5%, 15%"
   ]
  },
  {
   "cell_type": "code",
   "execution_count": 38,
   "id": "d0f2e2ac",
   "metadata": {},
   "outputs": [],
   "source": [
    "from os import linesep\n",
    "from pathlib import Path\n",
    "from datetime import datetime\n",
    "import platform \n",
    "from lightly.api import ApiWorkflowClient\n",
    "from lightly.openapi_generated.swagger_client import DatasetType, DatasourcePurpose\n",
    "import torch\n",
    "import time\n",
    "from typing import List"
   ]
  },
  {
   "cell_type": "code",
   "execution_count": 39,
   "id": "7873449c",
   "metadata": {},
   "outputs": [],
   "source": [
    "LIGHTLY_TOKEN = \"6ef4b5e20f6a1dba87a72a9eb4ddceb3f9529cd3d46b94a8\" \n",
    "# DATASET_PATH = Path(\"FOCAL/yolov5_format/images/train\")\n",
    "DATASET_PATH = Path(\"/home/avgus/active-vehicle-detection/clothing_dataset\")  # e.g., Path(\"/path/to/images\") or Path(\"clothing_dataset\")\n",
    "DATASET_NAME = \"Teste_proportion2\""
   ]
  },
  {
   "cell_type": "code",
   "execution_count": 40,
   "id": "d951f37c",
   "metadata": {},
   "outputs": [],
   "source": [
    "def monitoring_runs(client: ApiWorkflowClient, run_ids: List[str]):\n",
    "    \"\"\"\n",
    "    Monitora múltiplos runs de workers no Lightly de forma concorrente.\n",
    "    Args:\n",
    "        client: A instância do cliente da API do Lightly.\n",
    "        run_ids: Uma lista de strings, onde cada string é um ID de run agendado.\n",
    "    \"\"\"\n",
    "    if not run_ids:\n",
    "        print(\"⚠️ Nenhuma ID de run foi fornecida.\")\n",
    "        return {}\n",
    "    n_ids = len(run_ids)\n",
    "\n",
    "    print(f\"🚀 Iniciando monitoramento para {n_ids} Ciclos de Active Learning...\")\n",
    "    i = 0\n",
    "    for run_id in run_ids:\n",
    "        i += 1\n",
    "        print(f\"\\n🔍 Monitorando Ciclo {i}/{n_ids}:\")\n",
    "        print(f\"  -> ID [{run_id}]\")\n",
    "\n",
    "        for run_info in client.compute_worker_run_info_generator(scheduled_run_id=run_id):\n",
    "            print(f\"Estado Atual: '{run_info.state}' ---> '{run_info.message}'\")\n",
    "\n",
    "        if run_info.ended_successfully():\n",
    "            print(f\"✅ Run [{run_id}] concluído com SUCESSO!\")\n",
    "        else:\n",
    "            print(f\"❌ Run [{run_id}] FALHOU com status final: '{run_info.state}'\")\n",
    "    \n",
    "\n",
    "    print(\"\\n🏁 Monitoramento concluído para todos os runs.\")"
   ]
  },
  {
   "cell_type": "markdown",
   "id": "d7f7687c",
   "metadata": {},
   "source": [
    "Iniciar Cliente Lightly"
   ]
  },
  {
   "cell_type": "code",
   "execution_count": 41,
   "id": "5e96b955",
   "metadata": {},
   "outputs": [],
   "source": [
    "### Cliente Ligthly ###\n",
    "client = ApiWorkflowClient(token=LIGHTLY_TOKEN)"
   ]
  },
  {
   "cell_type": "markdown",
   "id": "d2297e36",
   "metadata": {},
   "source": [
    "Criar Dataset"
   ]
  },
  {
   "cell_type": "code",
   "execution_count": 42,
   "id": "f0cd20f7",
   "metadata": {},
   "outputs": [
    {
     "name": "stdout",
     "output_type": "stream",
     "text": [
      "dataset_id: 6877f8768388df88c81c54e2\n"
     ]
    }
   ],
   "source": [
    "client.create_dataset(\n",
    "    dataset_name=DATASET_NAME,\n",
    "    dataset_type=DatasetType.IMAGES,\n",
    ")\n",
    "\n",
    "client.set_local_config(purpose=DatasourcePurpose.INPUT)\n",
    "client.set_local_config(purpose=DatasourcePurpose.LIGHTLY)\n",
    "print(f\"dataset_id: {client.dataset_id}\")"
   ]
  },
  {
   "cell_type": "code",
   "execution_count": 43,
   "id": "e6fbb2b3",
   "metadata": {},
   "outputs": [],
   "source": [
    "client.set_local_config(purpose=DatasourcePurpose.INPUT)\n",
    "client.set_local_config(purpose=DatasourcePurpose.LIGHTLY)"
   ]
  },
  {
   "cell_type": "code",
   "execution_count": 44,
   "id": "0545103e",
   "metadata": {},
   "outputs": [],
   "source": [
    "# Let's fetch the dataset we created above.\n",
    "# client.set_dataset_id_by_name(dataset_name=DATASET_NAME)"
   ]
  },
  {
   "cell_type": "markdown",
   "id": "ae87660a",
   "metadata": {},
   "source": [
    "#### Agendar uma seleção"
   ]
  },
  {
   "cell_type": "code",
   "execution_count": 45,
   "id": "a43adbde",
   "metadata": {},
   "outputs": [],
   "source": [
    "run_ids = []"
   ]
  },
  {
   "cell_type": "markdown",
   "id": "0304d10a",
   "metadata": {},
   "source": [
    "Ciclo 1 - warm up - 1% dos dados escolhidos aleatoriamente"
   ]
  },
  {
   "cell_type": "code",
   "execution_count": null,
   "id": "1c409604",
   "metadata": {},
   "outputs": [
    {
     "name": "stdout",
     "output_type": "stream",
     "text": [
      "scheduled_run_id: 6877f87d47b73983f4c36606\n"
     ]
    }
   ],
   "source": [
    "# Schedule the run.\n",
    "scheduled_run_id = client.schedule_compute_worker_run(\n",
    "    worker_config={\n",
    "        # \"shutdown_when_job_finished\": True,\n",
    "        \"use_datapool\": True,\n",
    "        \"datasource\": {\n",
    "            \"process_all\": True,\n",
    "        },\n",
    "    },\n",
    "    selection_config={\n",
    "        \"proportion_samples\": 0.01, # 1% do dataset\n",
    "        \"strategies\": [\n",
    "            {\n",
    "                \"input\": {\n",
    "                    \"type\": \"RANDOM\",\n",
    "                    \"random_seed\": 42, # optional, for reproducibility\n",
    "                },\n",
    "                \"strategy\": {\n",
    "                    \"type\": \"WEIGHTS\",\n",
    "                }\n",
    "            }\n",
    "        ]\n",
    "    },\n",
    ")\n",
    "print(f\"scheduled_run_id: {scheduled_run_id}\")\n",
    "run_ids.append(scheduled_run_id)"
   ]
  },
  {
   "cell_type": "markdown",
   "id": "9c577d36",
   "metadata": {},
   "source": [
    "Ciclo 2 - +1% dos dados => 2% do total"
   ]
  },
  {
   "cell_type": "code",
   "execution_count": null,
   "id": "bba2a916",
   "metadata": {},
   "outputs": [
    {
     "name": "stdout",
     "output_type": "stream",
     "text": [
      "scheduled_run_id: 6877f87f8388df88c81c54e5\n"
     ]
    }
   ],
   "source": [
    "# Schedule the run.\n",
    "scheduled_run_id = client.schedule_compute_worker_run(\n",
    "    worker_config={\n",
    "        # \"shutdown_when_job_finished\": True,\n",
    "        \"use_datapool\": True,\n",
    "        \"datasource\": {\n",
    "            \"process_all\": True,\n",
    "        },\n",
    "    },\n",
    "    selection_config={\n",
    "        \"proportion_samples\": 0.01, # +1% do dataset\n",
    "        \"strategies\": [\n",
    "            {\n",
    "                \"input\": {\n",
    "                    \"type\": \"EMBEDDINGS\",\n",
    "                },\n",
    "                \"strategy\": {\n",
    "                    \"type\": \"DIVERSITY\",\n",
    "                },\n",
    "            }\n",
    "        ],\n",
    "    },\n",
    ")\n",
    "print(f\"scheduled_run_id: {scheduled_run_id}\")\n",
    "run_ids.append(scheduled_run_id)"
   ]
  },
  {
   "cell_type": "markdown",
   "id": "909b9860",
   "metadata": {},
   "source": [
    "Ciclo 3 - +2% dos dados => 4% do total"
   ]
  },
  {
   "cell_type": "code",
   "execution_count": null,
   "id": "576b048e",
   "metadata": {},
   "outputs": [
    {
     "name": "stdout",
     "output_type": "stream",
     "text": [
      "scheduled_run_id: 6877f8808388df88c81c54e6\n"
     ]
    }
   ],
   "source": [
    "# Schedule the run.\n",
    "scheduled_run_id = client.schedule_compute_worker_run(\n",
    "    worker_config={\n",
    "        # \"shutdown_when_job_finished\": True,\n",
    "        \"use_datapool\": True,\n",
    "        \"datasource\": {\n",
    "            \"process_all\": True,\n",
    "        },\n",
    "    },\n",
    "    selection_config={\n",
    "        \"proportion_samples\": 0.02, # +2% do dataset\n",
    "        \"strategies\": [\n",
    "            {\n",
    "                \"input\": {\n",
    "                    \"type\": \"EMBEDDINGS\",\n",
    "                },\n",
    "                \"strategy\": {\n",
    "                    \"type\": \"DIVERSITY\",\n",
    "                },\n",
    "            }\n",
    "        ],\n",
    "    },\n",
    ")\n",
    "print(f\"scheduled_run_id: {scheduled_run_id}\")\n",
    "run_ids.append(scheduled_run_id)"
   ]
  },
  {
   "cell_type": "markdown",
   "id": "c738cacf",
   "metadata": {},
   "source": [
    "Ciclo 4 - +4% dos dados => 8% do total"
   ]
  },
  {
   "cell_type": "code",
   "execution_count": null,
   "id": "57b9df79",
   "metadata": {},
   "outputs": [
    {
     "name": "stdout",
     "output_type": "stream",
     "text": [
      "scheduled_run_id: 6877f8828388df88c81c54e7\n"
     ]
    }
   ],
   "source": [
    "# Schedule the run.\n",
    "scheduled_run_id = client.schedule_compute_worker_run(\n",
    "    worker_config={\n",
    "        # \"shutdown_when_job_finished\": True,\n",
    "        \"use_datapool\": True,\n",
    "        \"datasource\": {\n",
    "            \"process_all\": True,\n",
    "        },\n",
    "    },\n",
    "    selection_config={\n",
    "        \"proportion_samples\": 0.04, # +4% do dataset\n",
    "        \"strategies\": [\n",
    "            {\n",
    "                \"input\": {\n",
    "                    \"type\": \"EMBEDDINGS\",\n",
    "                },\n",
    "                \"strategy\": {\n",
    "                    \"type\": \"DIVERSITY\",\n",
    "                },\n",
    "            }\n",
    "        ],\n",
    "    },\n",
    ")\n",
    "print(f\"scheduled_run_id: {scheduled_run_id}\")\n",
    "run_ids.append(scheduled_run_id)"
   ]
  },
  {
   "cell_type": "markdown",
   "id": "47b6e7bb",
   "metadata": {},
   "source": [
    "Ciclo 5 - +8% dos dados => 16% do total"
   ]
  },
  {
   "cell_type": "code",
   "execution_count": null,
   "id": "b9c57008",
   "metadata": {},
   "outputs": [
    {
     "name": "stdout",
     "output_type": "stream",
     "text": [
      "scheduled_run_id: 6877f88447b73983f4c3660a\n"
     ]
    }
   ],
   "source": [
    "# Schedule the run.\n",
    "scheduled_run_id = client.schedule_compute_worker_run(\n",
    "    worker_config={\n",
    "        # \"shutdown_when_job_finished\": True,\n",
    "        \"use_datapool\": True,\n",
    "        \"datasource\": {\n",
    "            \"process_all\": True,\n",
    "        },\n",
    "    },\n",
    "    selection_config={\n",
    "        \"proportion_samples\": 0.08, # +8% do dataset\n",
    "        \"strategies\": [\n",
    "            {\n",
    "                \"input\": {\n",
    "                    \"type\": \"EMBEDDINGS\",\n",
    "                },\n",
    "                \"strategy\": {\n",
    "                    \"type\": \"DIVERSITY\",\n",
    "                },\n",
    "            }\n",
    "        ],\n",
    "    },\n",
    ")\n",
    "print(f\"scheduled_run_id: {scheduled_run_id}\")\n",
    "run_ids.append(scheduled_run_id)"
   ]
  },
  {
   "cell_type": "code",
   "execution_count": 51,
   "id": "1e4b1a8d",
   "metadata": {},
   "outputs": [],
   "source": [
    "# absolute_dataset_path = Path(DATASET_PATH).absolute()\n",
    "# absolute_lightly_path = Path(\"lightly\").absolute()"
   ]
  },
  {
   "cell_type": "markdown",
   "id": "39f57432",
   "metadata": {},
   "source": [
    "Comandos Docker"
   ]
  },
  {
   "cell_type": "code",
   "execution_count": 52,
   "id": "76d2333f",
   "metadata": {},
   "outputs": [
    {
     "name": "stdout",
     "output_type": "stream",
     "text": [
      "\n",
      "Docker Run command: \n",
      "\u001b[7mdocker run --shm-size='1024m' --rm -it \\\n",
      "\t-v '/home/avgus/active-vehicle-detection/clothing_dataset':/input_mount:ro \\\n",
      "\t-v '/home/avgus/active-vehicle-detection/src/lightly':/lightly_mount \\\n",
      "\t-e LIGHTLY_TOKEN=6ef4b5e20f6a1dba87a72a9eb4ddceb3f9529cd3d46b94a8 \\\n",
      "\tlightly/worker:latest\n",
      "\u001b[0m\n",
      "\n",
      "Lightly Serve command:\n",
      "\u001b[7mlightly-serve \\\n",
      "\tinput_mount='/home/avgus/active-vehicle-detection/clothing_dataset' \\\n",
      "\tlightly_mount='/home/avgus/active-vehicle-detection/src/lightly'\n",
      "\u001b[0m\n"
     ]
    }
   ],
   "source": [
    "print(\n",
    "    f\"{linesep}Docker Run command: {linesep}\"\n",
    "    f\"\\033[7m\"\n",
    "    f\"docker run --shm-size='1024m' --rm -it \\\\{linesep}\"\n",
    "    f\"\\t-v '{DATASET_PATH.absolute()}':/input_mount:ro \\\\{linesep}\"\n",
    "    f\"\\t-v '{Path('lightly').absolute()}':/lightly_mount \\\\{linesep}\"\n",
    "    f\"\\t-e LIGHTLY_TOKEN={LIGHTLY_TOKEN} \\\\{linesep}\"\n",
    "    f\"\\tlightly/worker:latest{linesep}\"\n",
    "    f\"\\033[0m\"\n",
    ")\n",
    "print(\n",
    "    f\"{linesep}Lightly Serve command:{linesep}\"\n",
    "    f\"\\033[7m\"\n",
    "    f\"lightly-serve \\\\{linesep}\"\n",
    "    f\"\\tinput_mount='{DATASET_PATH.absolute()}' \\\\{linesep}\"\n",
    "    f\"\\tlightly_mount='{Path('lightly').absolute()}'{linesep}\"\n",
    "    f\"\\033[0m\"\n",
    ")"
   ]
  },
  {
   "cell_type": "markdown",
   "id": "1f7e58b1",
   "metadata": {},
   "source": [
    "Monitorando as seleções"
   ]
  },
  {
   "cell_type": "code",
   "execution_count": 53,
   "id": "5c872eed",
   "metadata": {},
   "outputs": [
    {
     "name": "stdout",
     "output_type": "stream",
     "text": [
      "🚀 Iniciando monitoramento para 5 Ciclos de Active Learning...\n",
      "\n",
      "🔍 Monitorando Ciclo 1/5:\n",
      "  -> ID [6877f87d47b73983f4c36606]\n",
      "Estado Atual: 'OPEN' ---> 'Waiting for pickup by Lightly Worker. Make sure to start a Lightly Worker connected to your user token to process the job.'\n",
      "Estado Atual: 'EMBEDDING' ---> 'State set to EMBEDDING'\n",
      "Estado Atual: 'GENERATING_REPORT' ---> 'State set to GENERATING_REPORT'\n",
      "Estado Atual: 'COMPLETED' ---> 'State set to COMPLETED'\n",
      "✅ Run [6877f87d47b73983f4c36606] concluído com SUCESSO!\n",
      "\n",
      "🔍 Monitorando Ciclo 2/5:\n",
      "  -> ID [6877f87f8388df88c81c54e5]\n",
      "Estado Atual: 'OPEN' ---> 'Waiting for pickup by Lightly Worker. Make sure to start a Lightly Worker connected to your user token to process the job.'\n",
      "Estado Atual: 'EMBEDDING' ---> 'State set to EMBEDDING'\n",
      "Estado Atual: 'UPLOADING_ARTIFACTS' ---> 'State set to UPLOADING_ARTIFACTS'\n",
      "Estado Atual: 'COMPLETED' ---> 'State set to COMPLETED'\n",
      "✅ Run [6877f87f8388df88c81c54e5] concluído com SUCESSO!\n",
      "\n",
      "🔍 Monitorando Ciclo 3/5:\n",
      "  -> ID [6877f8808388df88c81c54e6]\n",
      "Estado Atual: 'OPEN' ---> 'Waiting for pickup by Lightly Worker. Make sure to start a Lightly Worker connected to your user token to process the job.'\n",
      "Estado Atual: 'STARTED' ---> 'State set to STARTED'\n",
      "Estado Atual: 'EMBEDDING' ---> 'State set to EMBEDDING'\n",
      "Estado Atual: 'GENERATING_REPORT' ---> 'State set to GENERATING_REPORT'\n",
      "Estado Atual: 'COMPLETED' ---> 'State set to COMPLETED'\n",
      "✅ Run [6877f8808388df88c81c54e6] concluído com SUCESSO!\n",
      "\n",
      "🔍 Monitorando Ciclo 4/5:\n",
      "  -> ID [6877f8828388df88c81c54e7]\n",
      "Estado Atual: 'OPEN' ---> 'Waiting for pickup by Lightly Worker. Make sure to start a Lightly Worker connected to your user token to process the job.'\n",
      "Estado Atual: 'LOADING_DATASET' ---> 'State set to LOADING_DATASET'\n",
      "Estado Atual: 'UPLOADING_DATASET' ---> 'State set to UPLOADING_DATASET'\n",
      "Estado Atual: 'UPLOADED_ARTIFACTS' ---> 'State set to UPLOADED_ARTIFACTS'\n",
      "Estado Atual: 'COMPLETED' ---> 'State set to COMPLETED'\n",
      "✅ Run [6877f8828388df88c81c54e7] concluído com SUCESSO!\n",
      "\n",
      "🔍 Monitorando Ciclo 5/5:\n",
      "  -> ID [6877f88447b73983f4c3660a]\n",
      "Estado Atual: 'OPEN' ---> 'Waiting for pickup by Lightly Worker. Make sure to start a Lightly Worker connected to your user token to process the job.'\n",
      "Estado Atual: 'EMBEDDING' ---> 'State set to EMBEDDING'\n",
      "Estado Atual: 'GENERATING_REPORT' ---> 'State set to GENERATING_REPORT'\n",
      "Estado Atual: 'COMPLETED' ---> 'State set to COMPLETED'\n",
      "✅ Run [6877f88447b73983f4c3660a] concluído com SUCESSO!\n",
      "\n",
      "🏁 Monitoramento concluído para todos os runs.\n"
     ]
    }
   ],
   "source": [
    "monitoring_runs(client, run_ids)"
   ]
  }
 ],
 "metadata": {
  "kernelspec": {
   "display_name": "venv",
   "language": "python",
   "name": "python3"
  },
  "language_info": {
   "codemirror_mode": {
    "name": "ipython",
    "version": 3
   },
   "file_extension": ".py",
   "mimetype": "text/x-python",
   "name": "python",
   "nbconvert_exporter": "python",
   "pygments_lexer": "ipython3",
   "version": "3.10.12"
  }
 },
 "nbformat": 4,
 "nbformat_minor": 5
}
